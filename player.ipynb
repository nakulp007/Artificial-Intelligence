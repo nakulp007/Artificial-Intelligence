{
 "cells": [
  {
   "cell_type": "markdown",
   "metadata": {},
   "source": [
    "This is the ipython notebook you should use as a template for your agent. Your task for this assignment is to implement a winning AI for the game of Isolation, as specified in the assignment pdf you have been issued.\n",
    "\n",
    "The following random agent just selects a move out of the set of legal moves. Note that your agent, when asked for a move, is already provided with the set of moves available to it. This is done for your convenience. If your agent attempts to perform an illegal move, it will lose, so please refrain from doing so. It is also provided with a function that, when invoked, returns the amount of time left for your agent to make its move. If your agent fails to make a move in the alloted time, it will lose.\n"
   ]
  },
  {
   "cell_type": "code",
   "execution_count": null,
   "metadata": {
    "collapsed": true
   },
   "outputs": [],
   "source": [
    "from random import randint\n",
    "\n",
    "class RandomPlayer():\n",
    "    \"\"\"Player that chooses a move randomly.\"\"\"\n",
    "    def move(self, game, legal_moves, time_left):\n",
    "        if not legal_moves: return (-1,-1)\n",
    "        return legal_moves[randint(0,len(legal_moves)-1)]"
   ]
  },
  {
   "cell_type": "markdown",
   "metadata": {},
   "source": [
    "The following are functions that might be useful to you in developing your agent:\n",
    "\n",
    "    game.get_legal_moves(): Returns a list of legal moves for the active player.\n",
    "\n",
    "    game.get_opponent_moves(): Returns a list of legal moves for the inactive player.\n",
    "\n",
    "    game.forecast_move(move): This returns a new board, whose state is the result of making the move specified on the current board.\n",
    "\n",
    "    game.get_state(): This returns a 2D array containing a copy of the explicit state of the board. \n",
    "    \n",
    "    game.is_winner(player): Returns whether your player agent has won.\n",
    "    \n",
    "    game.is_opponent_winner(player): Returns whether your player's opponent has won.    \n",
    "    \n",
    "    game.print_board(): Returns a string representation of the game board. This should be useful for debugging.\n",
    "\n"
   ]
  },
  {
   "cell_type": "code",
   "execution_count": null,
   "metadata": {
    "collapsed": true
   },
   "outputs": [],
   "source": [
    "class HumanPlayer():\n",
    "    \"\"\"Player that chooses a move according to\n",
    "    user's input.\"\"\"\n",
    "    def move(self, game, legal_moves, time_left):\n",
    "        print('\\t'.join(['[%d] %s'%(i,str(move)) for i,move in enumerate(legal_moves)] ))\n",
    "        \n",
    "        valid_choice = False\n",
    "        while not valid_choice:\n",
    "            try:\n",
    "                index = int(raw_input('Select move index:'))\n",
    "                valid_choice = 0 <= index < len(legal_moves)\n",
    "\n",
    "                if not valid_choice:\n",
    "                    print('Illegal move! Try again.')\n",
    "            \n",
    "            except ValueError:\n",
    "                print('Invalid index! Try again.')\n",
    "        return legal_moves[index]"
   ]
  },
  {
   "cell_type": "markdown",
   "metadata": {},
   "source": [
    "This is the first part of the assignment you are expected to implement. It is the evaluation function we've been using in class. The score of a specified game state is just the number of moves open to the active player."
   ]
  },
  {
   "cell_type": "code",
   "execution_count": 1,
   "metadata": {
    "collapsed": true
   },
   "outputs": [],
   "source": [
    "class OpenMoveEvalFn():\n",
    "    \n",
    "    def score(self, game):\n",
    "        # TODO: finish this function!\n",
    "        return eval_func"
   ]
  },
  {
   "cell_type": "markdown",
   "metadata": {},
   "source": [
    "    The following is a \n",
    "    Custom evaluation function that acts\n",
    "    however you think it should. This is not\n",
    "    required but highly encouraged if you\n",
    "    want to build the best AI possible."
   ]
  },
  {
   "cell_type": "code",
   "execution_count": null,
   "metadata": {
    "collapsed": true
   },
   "outputs": [],
   "source": [
    "class CustomEvalFn():\n",
    "\n",
    "    def score(self, game):\n",
    "        return eval_func"
   ]
  },
  {
   "cell_type": "markdown",
   "metadata": {},
   "source": [
    "Implement a Player below that chooses a move using \n",
    "    your evaluation function and \n",
    "    a depth-limited minimax algorithm \n",
    "    with alpha-beta pruning.\n",
    "    You must finish and test this player\n",
    "    to make sure it properly uses minimax\n",
    "    and alpha-beta to return a good move\n",
    "    in less than 500 milliseconds."
   ]
  },
  {
   "cell_type": "code",
   "execution_count": null,
   "metadata": {
    "collapsed": true
   },
   "outputs": [],
   "source": [
    "class CustomPlayer():\n",
    "    # TODO: finish this class!\n",
    "    def __init__(self, search_depth=3, eval_fn=OpenMoveEvalFn()):\n",
    "        self.eval_fn = eval_fn\n",
    "        self.search_depth = search_depth\n",
    "\n",
    "    def move(self, game, legal_moves, time_left):\n",
    "\n",
    "        best_move, utility = self.minimax(game, depth=self.search_depth)\n",
    "        # you will eventually replace minimax with alpha-beta\n",
    "        return best_move\n",
    "\n",
    "    def utility(self, game):\n",
    "        \n",
    "        if game.is_winner(self):\n",
    "            return float(\"inf\")\n",
    "\n",
    "        if game.is_opponent_winner(self):\n",
    "            return float(\"-inf\")\n",
    "\n",
    "        return self.eval_fn.score(game)\n",
    "\n",
    "    def minimax(self, game, depth=float(\"inf\"), maximizing_player=True):\n",
    "        # TODO: finish this function!\n",
    "        return best_move, best_val\n",
    "\n",
    "    def alphabeta(game, depth=float(\"inf\"), alpha=float(\"-inf\"), beta=float(\"inf\"), maximizing_player=True):\n",
    "        # TODO: finish this function!\n",
    "        return best_move, best_val"
   ]
  },
  {
   "cell_type": "markdown",
   "metadata": {},
   "source": [
    "The following are some basic tests you can use to sanity-check your code. You will also be provided with a test server to which you will be able to submit your agents later this week. Good luck!"
   ]
  },
  {
   "cell_type": "code",
   "execution_count": null,
   "metadata": {
    "collapsed": true
   },
   "outputs": [],
   "source": [
    "\"\"\"Example test you can run\n",
    "to make sure your AI does better\n",
    "than random.\"\"\"\n",
    "from isolation import Board\n",
    "if __name__ == \"__main__\":\n",
    "    r = RandomPlayer()\n",
    "    h = CustomPlayer()\n",
    "    game = Board(h,r)\n",
    "    game.play_isolation()"
   ]
  },
  {
   "cell_type": "code",
   "execution_count": null,
   "metadata": {
    "collapsed": true
   },
   "outputs": [],
   "source": [
    "\"\"\"Example test you can run\n",
    "to make sure your basic evaluation\n",
    "function works.\"\"\"\n",
    "from isolation import Board\n",
    "\n",
    "if __name__ == \"__main__\":\n",
    "    sample_board = Board(RandomPlayer(),RandomPlayer())\n",
    "    # setting up the board as though we've been playing\n",
    "    sample_board.move_count = 3\n",
    "    sample_board.__active_player__ = 0 # player 1 = 0, player 2 = 1\n",
    "    # 1st board = 16 moves\n",
    "    sample_board.__board_state__ = [\n",
    "                [0,2,0,0,0],\n",
    "                [0,0,0,0,0],\n",
    "                [0,0,1,0,0],\n",
    "                [0,0,0,0,0],\n",
    "                [0,0,0,0,0]]\n",
    "    sample_board.__last_player_move__ = [(2,2),(0,1)]\n",
    "\n",
    "    # player 1 should have 16 moves available,\n",
    "    # so board gets a score of 16\n",
    "    h = OpenMoveEvalFn()\n",
    "    print('This board has a score of %s.'%(h.score(sample_board)))"
   ]
  }
 ],
 "metadata": {
  "kernelspec": {
   "display_name": "Python 2",
   "language": "python",
   "name": "python2"
  },
  "language_info": {
   "codemirror_mode": {
    "name": "ipython",
    "version": 3
   },
   "file_extension": ".py",
   "mimetype": "text/x-python",
   "name": "python",
   "nbconvert_exporter": "python",
   "pygments_lexer": "ipython3",
   "version": "3.4.3"
  }
 },
 "nbformat": 4,
 "nbformat_minor": 0
}
