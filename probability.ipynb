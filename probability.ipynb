{
 "cells": [
  {
   "cell_type": "markdown",
   "metadata": {},
   "source": [
    "# Assignment 3: Probabilistic modeling\n",
    "\n",
    "In this assignment, you will work with probabilistic models known as Bayesian networks to efficiently calculate the answer to probability questions concerning discrete random variables.\n",
    "\n",
    "To help, we've provided a package called [pbnt](https://github.com/thejinxters/pbnt) that supports the representation of Bayesian networks and automatic inference (!) of marginal probabilities. Note that you need numpy to run pbnt.\n",
    "\n",
    "This assignment is due on T-Square on October 15th by 9:35 AM."
   ]
  },
  {
   "cell_type": "markdown",
   "metadata": {},
   "source": [
    "**Warning**\n",
    "-----\n",
    "\n",
    "Due to compatibility bugs in pbnt, **this assignment requires Python 2.7 to run, which in turn requires iPython2.** So you should run this notebook using\n",
    "\n",
    "    ipython2 notebook probability_notebook.ipynb\n",
    "\n",
    "If you don't have iPython2 installed, you can download it [here](https://github.com/ipython/ipython/archive/rel-2.4.1.zip), unzip it, and install it using\n",
    "\n",
    "    python setup.py install\n",
    "\n",
    "If you don't have iPython2 installed and you don't want to have more than one version installed, you can set it up using a virtual environment (virtualenv). \n",
    "\n",
    "You can find instructions on how to set up a virtualenv under the following links:\n",
    "\n",
    "- [Windows users](http://www.tylerbutler.com/2012/05/how-to-install-python-pip-and-virtualenv-on-windows-with-powershell/) (TL;DR use PowerShell)\n",
    "- [Linux/Mac users](https://virtualenv.pypa.io/en/latest/installation.html) (TL;DR use pip if you can)\n",
    "\n",
    "Once you have virtualenv installed, you should navigate to the directory containing probability_notebook.ipynb and run the command\n",
    "\n",
    "    virtualenv .\n",
    "    \n",
    "which will create a subdirectory called \"bin\" which contains scripts to run the virtual environment. You'll then call\n",
    "\n",
    "    source bin/activate\n",
    "    \n",
    "to activate the virtualenv. You'll see that your command line now looks something like this:\n",
    "\n",
    "    (assignment_3)my-laptop:probability_assignment user_name$\n",
    "\n",
    "From here, you can install iPython2 to your local directory by running the command\n",
    "\n",
    "    pip2.7 install \"ipython [notebook]\"\n",
    "    \n",
    "and then you'll be able to open probability_notebook.ipynb using iPython2.\n",
    "\n",
    "Whenever you want to quit your virtual environment, just type\n",
    "\n",
    "    deactivate\n",
    "    \n",
    "and you can reactivate the environment later with the same command you used before. If you ever want to get rid of the virtualenv files entirely, just delete the \"bin\" folder."
   ]
  },
  {
   "cell_type": "code",
   "execution_count": 1,
   "metadata": {
    "collapsed": false
   },
   "outputs": [
    {
     "name": "stdout",
     "output_type": "stream",
     "text": [
      "('The marginal probability of sprinkler=false:', 0.80102921)\n",
      "('The marginal probability of wetgrass=false | cloudy=False, rain=True:', 0.055)\n"
     ]
    }
   ],
   "source": [
    "\"\"\"Testing pbnt.\n",
    "Run this before anything else\n",
    "to get pbnt to work!\"\"\"\n",
    "import sys\n",
    "# from importlib import reload\n",
    "if('pbnt/combined' not in sys.path):\n",
    "    sys.path.append('pbnt/combined')\n",
    "from exampleinference import inferenceExample\n",
    "\n",
    "# Should output:\n",
    "# ('The marginal probability of sprinkler=false:', 0.80102921)\n",
    "#('The marginal probability of wetgrass=false | cloudy=False, rain=True:', 0.055)\n",
    "\n",
    "inferenceExample()"
   ]
  },
  {
   "cell_type": "markdown",
   "metadata": {},
   "source": [
    "Part 1: Bayesian network tutorial\n",
    "-------\n",
    "40 points total\n",
    "\n",
    "To start, design a basic probabilistic model for the following system.\n",
    "\n",
    "There's a nuclear power plant in which an alarm is supposed to ring when the core temperature, indicated by a gauge, exceeds a fixed threshold. For simplicity, we assume that the temperature is represented as either high or normal. Use the following Boolean variables in your implementation:\n",
    "\n",
    "- A = alarm sounds\n",
    "- F<sub>A</sub> = alarm is faulty\n",
    "- G = gauge reading (high = True, normal = False)\n",
    "- F<sub>G</sub> = gauge is faulty\n",
    "- T = actual temperature (high = True, normal = False)\n",
    "\n",
    "In addition, assume that the gauge is **more likely to fail** when the temperature is high.\n",
    "\n",
    "You will test your implementation at the end of the section."
   ]
  },
  {
   "cell_type": "markdown",
   "metadata": {},
   "source": [
    "1a: Casting the net\n",
    "--\n",
    "10 points\n",
    "\n",
    "Design a Bayesian network for this system, using pbnt to represent the nodes and conditional probability arcs connecting nodes. Don't worry about the probabilities for now. Fill out the function below to create the net.\n",
    "\n",
    "The following command will create a BayesNode with 2 values, an id of 0 and the name \"alarm\":\n",
    "\n",
    "    A_node = BayesNode(0,2,name='alarm')\n",
    "\n",
    "You will use BayesNode.add\\_parent() and BayesNode.add\\_child() to connect nodes. For example, to connect the alarm and temperature nodes that you've already made (i.e. assuming that temperature affects the alarm probability):\n",
    "\n",
    "    A_node.add_parent(T_node)\n",
    "    T_node.add_child(A_node)\n",
    "    \n",
    "You can run probability\\_tests.network\\_setup\\_test() to make sure your network is set up correctly."
   ]
  },
  {
   "cell_type": "code",
   "execution_count": 2,
   "metadata": {
    "collapsed": false
   },
   "outputs": [],
   "source": [
    "from Node import BayesNode\n",
    "from Graph import BayesNet\n",
    "def make_power_plant_net():\n",
    "    \"\"\"Create a Bayes Net representation of\n",
    "    the above power plant problem.\"\"\"\n",
    "\n",
    "    A_node = BayesNode(0,2,name='alarm')\n",
    "    F_A_node = BayesNode(1,2,name='faulty alarm')\n",
    "    G_node = BayesNode(2,2,name='gauge')\n",
    "    F_G_node = BayesNode(3,2,name='faulty gauge')\n",
    "    T_node = BayesNode(4,2,name='temperature')\n",
    "\n",
    "    F_G_node.add_parent(T_node)\n",
    "    T_node.add_child(F_G_node)\n",
    "\n",
    "    G_node.add_parent(T_node)\n",
    "    T_node.add_child(G_node)\n",
    "\n",
    "    G_node.add_parent(F_G_node)\n",
    "    F_G_node.add_child(G_node)\n",
    "\n",
    "    A_node.add_parent(G_node)\n",
    "    G_node.add_child(A_node)\n",
    "\n",
    "    A_node.add_parent(F_A_node)\n",
    "    F_A_node.add_child(A_node)\n",
    "\n",
    "    nodes = [A_node,F_A_node,G_node,F_G_node,T_node]\n",
    "\n",
    "    return BayesNet(nodes)"
   ]
  },
  {
   "cell_type": "code",
   "execution_count": 3,
   "metadata": {
    "collapsed": false
   },
   "outputs": [
    {
     "name": "stdout",
     "output_type": "stream",
     "text": [
      "correct number of nodes\n",
      "correct number of edges between nodes\n"
     ]
    }
   ],
   "source": [
    "from probability_tests import network_setup_test\n",
    "power_plant = make_power_plant_net()\n",
    "network_setup_test(power_plant)"
   ]
  },
  {
   "cell_type": "markdown",
   "metadata": {},
   "source": [
    "1b: Polytrees\n",
    "--\n",
    "5 points\n",
    "\n",
    "Is the network for the power plant system a polytree? Why or why not? Choose from the following answers."
   ]
  },
  {
   "cell_type": "code",
   "execution_count": 4,
   "metadata": {
    "collapsed": true
   },
   "outputs": [],
   "source": [
    "def is_polytree():\n",
    "    \"\"\"Multiple choice question about polytrees.\"\"\"\n",
    "    choice = 'c'\n",
    "    answers = {\n",
    "        'a' : 'Yes, because it can be decomposed into multiple sub-trees.',\n",
    "        'b' : 'Yes, because its underlying undirected graph is a tree.',\n",
    "        'c' : 'No, because its underlying undirected graph is not a tree.',\n",
    "        'd' : 'No, because it cannot be decomposed into multiple sub-trees.'\n",
    "    }\n",
    "    return answers[choice]"
   ]
  },
  {
   "cell_type": "markdown",
   "metadata": {},
   "source": [
    "1c: Setting the probabilities\n",
    "---\n",
    "15 points\n",
    "\n",
    "Assume that the following statements about the system are true:\n",
    "\n",
    "1. The temperature gauge reads the correct temperature with 95% probability when it is not faulty and 20% probability when it is faulty. For simplicity, say that the gauge's \"true\" value corresponds with its \"hot\" reading and \"false\" with its \"normal\" reading, so the gauge would have a 95% chance of returning \"true\" when the temperature is hot and it is not faulty.\n",
    "2. The alarm is faulty 15% of the time.\n",
    "3. The temperature is hot (call this \"true\") 20% of the time.\n",
    "4. When the temperature is hot, the gauge is faulty 80% of the time. Otherwise, the gauge is faulty 5% of the time.\n",
    "5. The alarm responds correctly to the gauge 55% of the time when the alarm is faulty, and it responds correctly to the gauge 90% of the time when the alarm is not faulty. For instance, when it is faulty, the alarm sounds 55% of the time that the gauge is \"hot\" and remains silent 55% of the time that the gauge is \"normal.\"\n",
    "\n",
    "Knowing these facts, set the conditional probabilities for the necessary variables on the network you just built.\n",
    "\n",
    "Using pbnt's Distribution class: if you wanted to set the distribution for P(A) to 70% true, 30% false, you would invoke the following commands.\n",
    "\n",
    "    A_distribution = DiscreteDistribution(A_node)\n",
    "    index = A_distribution.generate_index([],[])\n",
    "    A_distribution[index] = [0.3,0.7]\n",
    "    A_Node.set_dist(A_distribution)\n",
    "\n",
    "If you wanted to set the distribution for P(A|G) to be\n",
    "\n",
    "|$G$|$P(A=true| G)$|\n",
    "|------|:-----:|\n",
    "|T| 0.75|\n",
    "|F| 0.85| \n",
    "\n",
    "you would invoke:\n",
    "\n",
    "    from numpy import zeros, float32\n",
    "    dist = zeros([G_node.size(), A_node.size()], dtype=float32)\n",
    "    dist[0,:] = [0.15, 0.85]\n",
    "    dist[1,:] = [0.25, 0.75]\n",
    "    A_distribution = ConditionalDiscreteDistribution(nodes=[G_node,A_node], table=dist)\n",
    "    A_node.set_dist(A_distribution)\n",
    "\n",
    "Modeling a three-variable relationship is a bit trickier. If you wanted to set the following distribution for $P(A|G,T)$ to be\n",
    "\n",
    "|$G$|$T$|$P(A=true| G, T)$|\n",
    "|--|--|:----:|\n",
    "|T|T|0.15|\n",
    "|T|F|0.6|\n",
    "|F|T|0.2|\n",
    "|F|F|0.1|\n",
    "\n",
    "you would invoke:\n",
    "\n",
    "    from numpy import zeros, float32\n",
    "    dist = zeros([G_node.size(), T_node.size(), A_node.size()], dtype=float32)\n",
    "    dist[1,1,:] = [0.85, 0.15]\n",
    "    dist[1,0,:] = [0.4, 0.6]\n",
    "    dist[0,1,:] = [0.8, 0.2]\n",
    "    dist[0,0,:] = [0.9, 0.1]\n",
    "    A_distribution = ConditionalDiscreteDistribution(nodes=[G_node, T_node, A_node], table=dist)\n",
    "    A_node.set_dist(A_distribution)\n",
    "\n",
    "The key is to remember that 0 represents the index of the false probability, and 1 represents true.\n",
    "\n",
    "You can check your probability distributions with probability\\_tests.probability\\_setup\\_test()."
   ]
  },
  {
   "cell_type": "code",
   "execution_count": 5,
   "metadata": {
    "collapsed": false
   },
   "outputs": [],
   "source": [
    "from numpy import zeros, float32\n",
    "import Distribution\n",
    "from Distribution import DiscreteDistribution, ConditionalDiscreteDistribution\n",
    "def set_probability(bayes_net):\n",
    "    \"\"\"Set probability distribution for each\n",
    "    node in the power plant system.\"\"\"\n",
    "\n",
    "    A_node = bayes_net.get_node_by_name(\"alarm\")\n",
    "    F_A_node = bayes_net.get_node_by_name(\"faulty alarm\")\n",
    "    G_node = bayes_net.get_node_by_name(\"gauge\")\n",
    "    F_G_node = bayes_net.get_node_by_name(\"faulty gauge\")\n",
    "    T_node = bayes_net.get_node_by_name(\"temperature\")\n",
    "    nodes = [A_node, F_A_node, G_node, F_G_node, T_node]\n",
    "    # TODO: set the probability distribution for each node\n",
    "\n",
    "    #P(T)\n",
    "    T_distribution = DiscreteDistribution(T_node)\n",
    "    index = T_distribution.generate_index([],[])\n",
    "    T_distribution[index] = [0.80,0.20]\n",
    "    T_node.set_dist(T_distribution)\n",
    "\n",
    "    #P(FA)\n",
    "    F_A_distribution = DiscreteDistribution(F_A_node)\n",
    "    index = F_A_distribution.generate_index([],[])\n",
    "    F_A_distribution[index] = [0.85,0.15]\n",
    "    F_A_node.set_dist(F_A_distribution)\n",
    "\n",
    "    #P(FG|T)\n",
    "    from numpy import zeros, float32\n",
    "    dist = zeros([T_node.size(), F_G_node.size()], dtype=float32)\n",
    "    dist[0,:] = [0.95, 0.05]\n",
    "    dist[1,:] = [0.20, 0.80]\n",
    "    F_G_distribution = ConditionalDiscreteDistribution(nodes=[T_node,F_G_node], table=dist)\n",
    "    F_G_node.set_dist(F_G_distribution)\n",
    "\n",
    "    #P(G|T,FG)\n",
    "    dist = zeros([T_node.size(), F_G_node.size(), G_node.size()], dtype=float32)\n",
    "    dist[1,1,:] = [0.80, 0.20]\n",
    "    dist[1,0,:] = [0.05, 0.95]\n",
    "    dist[0,1,:] = [0.2, 0.8]#\n",
    "    dist[0,0,:] = [0.95, 0.05]#\n",
    "    G_distribution = ConditionalDiscreteDistribution(nodes=[T_node, F_G_node, G_node], table=dist)\n",
    "    G_node.set_dist(G_distribution)\n",
    "\n",
    "    #P(A|G,FA)\n",
    "    dist = zeros([G_node.size(), F_A_node.size(), A_node.size()], dtype=float32)\n",
    "    dist[1,1,:] = [0.45, 0.55]\n",
    "    dist[1,0,:] = [0.10, 0.90]\n",
    "    dist[0,1,:] = [0.55, 0.45]#\n",
    "    dist[0,0,:] = [0.9, 0.1]#\n",
    "    A_distribution = ConditionalDiscreteDistribution(nodes=[G_node, F_A_node, A_node], table=dist)\n",
    "    A_node.set_dist(A_distribution)\n",
    "\n",
    "    return bayes_net"
   ]
  },
  {
   "cell_type": "code",
   "execution_count": 6,
   "metadata": {
    "collapsed": false
   },
   "outputs": [
    {
     "name": "stdout",
     "output_type": "stream",
     "text": [
      "correct temperature distribution size\n",
      "correct temperature distribution\n",
      "correct faulty gauge distribution size\n",
      "correct faulty gauge distribution\n",
      "correct gauge distribution size\n",
      "correct alarm distribution size\n",
      "correct faulty alarm distribution size\n",
      "correct faulty alarm distribution\n"
     ]
    }
   ],
   "source": [
    "set_probability(power_plant)\n",
    "from probability_tests import probability_setup_test\n",
    "probability_setup_test(power_plant)"
   ]
  },
  {
   "cell_type": "markdown",
   "metadata": {},
   "source": [
    "1d: Probability calculations\n",
    "---\n",
    "10 points\n",
    "\n",
    "To finish up, you're going to perform inference on the network to calculate the following probabilities:\n",
    "\n",
    "- the marginal probability that the alarm sounds\n",
    "- the marginal probability that the gauge shows \"hot\"\n",
    "- the probability that the temperature is actually hot, given that the alarm sounds and the alarm and gauge are both working\n",
    "\n",
    "You'll fill out the \"get_prob\" functions to calculate the probabilities.\n",
    "\n",
    "Here's an example of how to do inference for the marginal probability of the \"faulty alarm\" node being True (assuming \"bayes_net\" is your network):\n",
    "\n",
    "    F_A_node = bayes_net.get_node_by_name('faulty alarm')\n",
    "    engine = JunctionTreeEngine(bayes_net)\n",
    "    Q = engine.marginal(F_A_node)[0]\n",
    "    index = Q.generate_index([True],range(Q.nDims))\n",
    "    prob = Q[index]\n",
    "  \n",
    "To compute the conditional probability, set the evidence variables before computing the marginal as seen below (here we're computing $P(A = false | F_A = true, T = False)$):\n",
    "\n",
    "    engine.evidence[F_A_node] = True\n",
    "    engine.evidence[T_node] = False\n",
    "    Q = engine.marginal(A_node)[0]\n",
    "    index = Q.generate_index([False],range(Q.nDims))\n",
    "    prob = Q[index]\n",
    "\n",
    "If you need to sanity-check to make sure you're doing inference correctly, you can run inference on one of the probabilities that we gave you in 1c. For instance, running inference on $P(T=true)$ should return 0.19999994 (i.e. almost 20%). You can also calculate the answers by hand to double-check."
   ]
  },
  {
   "cell_type": "code",
   "execution_count": 7,
   "metadata": {
    "collapsed": true
   },
   "outputs": [],
   "source": [
    "def get_alarm_prob(bayes_net, alarm_rings):\n",
    "    \"\"\"Calculate the marginal\n",
    "    probability of the alarm\n",
    "    ringing (T/F) in the\n",
    "    power plant system.\"\"\"\n",
    "    A_node = bayes_net.get_node_by_name('alarm')\n",
    "    engine = JunctionTreeEngine(bayes_net)\n",
    "    Q = engine.marginal(A_node)[0]\n",
    "    index = Q.generate_index([alarm_rings],range(Q.nDims))\n",
    "    alarm_prob = Q[index]\n",
    "    return alarm_prob"
   ]
  },
  {
   "cell_type": "code",
   "execution_count": 8,
   "metadata": {
    "collapsed": true
   },
   "outputs": [],
   "source": [
    "def get_gauge_prob(bayes_net, gauge_hot):\n",
    "    \"\"\"Calculate the marginal\n",
    "    probability of the gauge\n",
    "    showing hot (T/F) in the\n",
    "    power plant system.\"\"\"\n",
    "    G_node = bayes_net.get_node_by_name('gauge')\n",
    "    engine = JunctionTreeEngine(bayes_net)\n",
    "    Q = engine.marginal(G_node)[0]\n",
    "    index = Q.generate_index([gauge_hot],range(Q.nDims))\n",
    "    gauge_prob = Q[index]\n",
    "    return gauge_prob"
   ]
  },
  {
   "cell_type": "code",
   "execution_count": 9,
   "metadata": {
    "collapsed": true
   },
   "outputs": [],
   "source": [
    "from Inference import JunctionTreeEngine\n",
    "def get_temperature_prob(bayes_net,temp_hot):\n",
    "    \"\"\"Calculate theprobability of the\n",
    "    temperature being hot (T/F) in the\n",
    "    power plant system, given that the\n",
    "    alarm sounds and neither the gauge\n",
    "    nor alarm is faulty.\"\"\"\n",
    "    T_node = bayes_net.get_node_by_name('temperature')\n",
    "    A_node = bayes_net.get_node_by_name('alarm')\n",
    "    F_A_node = bayes_net.get_node_by_name('faulty alarm')\n",
    "    F_G_node = bayes_net.get_node_by_name('faulty gauge')\n",
    "    engine = JunctionTreeEngine(bayes_net)\n",
    "    engine.evidence[A_node] = True\n",
    "    engine.evidence[F_A_node] = False\n",
    "    engine.evidence[F_G_node] = False\n",
    "    Q = engine.marginal(T_node)[0]\n",
    "    index = Q.generate_index([temp_hot],range(Q.nDims))\n",
    "    temp_prob = Q[index]\n",
    "    return temp_prob"
   ]
  },
  {
   "cell_type": "code",
   "execution_count": 10,
   "metadata": {
    "collapsed": false
   },
   "outputs": [
    {
     "data": {
      "text/plain": [
       "0.24431819"
      ]
     },
     "execution_count": 10,
     "metadata": {},
     "output_type": "execute_result"
    }
   ],
   "source": [
    "get_alarm_prob(power_plant,True)\n",
    "get_gauge_prob(power_plant,True)\n",
    "get_temperature_prob(power_plant,True)"
   ]
  },
  {
   "cell_type": "markdown",
   "metadata": {},
   "source": [
    "Part 2: Sampling\n",
    "-----\n",
    "60 points total\n",
    "\n",
    "For the main exercise, consider the following scenario.\n",
    "\n",
    "There are three frisbee teams who play each other: the Airheads, the Buffoons, and the Clods (A, B and C for short). Each match is between two teams, and each team can either win, lose, or draw in a match. Each team has a fixed but unknown skill level, represented as an integer from 0 to 3. Each match's outcome is probabilistically proportional to the difference in skill level between the teams.\n",
    "\n",
    "We want to predict the outcome of the matches, given prior knowledge of previous matches. Rather than using inference, we will do so by sampling the network using two [Markov Chain Monte Carlo](http://www.statistics.com/papers/LESSON1_Notes_MCMC.pdf) models: Metropolis-Hastings (2b) and Gibbs sampling (2c)."
   ]
  },
  {
   "cell_type": "markdown",
   "metadata": {},
   "source": [
    "2a: Build the network\n",
    "-----\n",
    "10 points\n",
    "\n",
    "Build a Bayes Net to represent the three teams and their influences on the match outcomes. Assume the following variable conventions:\n",
    "\n",
    "| variable name | description|\n",
    "|---------|:------:|\n",
    "|A| A's skill level|\n",
    "|B | B's skill level|\n",
    "|C | C's skill level|\n",
    "|AvB | the outcome of A vs. B <br> (0 = A wins, 1 = B wins, 2 = tie)|\n",
    "|BvC | the outcome of B vs. C <br> (0 = B wins, 1 = C wins, 2 = tie)|\n",
    "|CvA | the outcome of C vs. A <br> (0 = C wins, 1 = A wins, 2 = tie)|\n",
    "\n",
    "Assume that each team has the following prior distribution of skill levels:\n",
    "\n",
    "|skill level|P(skill level)|\n",
    "|----|:----:|\n",
    "|0|0.15|\n",
    "|1|0.45|\n",
    "|2|0.30|\n",
    "|3|0.10|\n",
    "\n",
    "In addition, assume that the differences in skill levels correspond to the following probabilities of winning:\n",
    "\n",
    "| skill difference <br> (T2 - T1) | T1 wins | T2 wins| Tie |\n",
    "|------------|----------|---|:--------:|\n",
    "|0|0.10|0.10|0.80|\n",
    "|1|0.20|0.40|0.20|\n",
    "|2|0.15|0.75|0.10|\n",
    "|3|0.05|0.90|0.05|"
   ]
  },
  {
   "cell_type": "code",
   "execution_count": 11,
   "metadata": {
    "collapsed": true
   },
   "outputs": [],
   "source": [
    "def get_game_network():\n",
    "    \"\"\"Create a Bayes Net representation\n",
    "    of the game problem.\"\"\"\n",
    "\n",
    "    A_node = BayesNode(0,4,name='A')\n",
    "    B_node = BayesNode(1,4,name='B')\n",
    "    C_node = BayesNode(2,4,name='C')\n",
    "    AvB_node = BayesNode(3,3,name='AvB')\n",
    "    BvC_node = BayesNode(4,3,name='BvC')\n",
    "    CvA_node = BayesNode(5,3,name='CvA')\n",
    "\n",
    "    AvB_node.add_parent(A_node)\n",
    "    A_node.add_child(AvB_node)\n",
    "\n",
    "    AvB_node.add_parent(B_node)\n",
    "    B_node.add_child(AvB_node)\n",
    "\n",
    "    BvC_node.add_parent(B_node)\n",
    "    B_node.add_child(BvC_node)\n",
    "\n",
    "    BvC_node.add_parent(C_node)\n",
    "    C_node.add_child(BvC_node)\n",
    "\n",
    "    CvA_node.add_parent(C_node)\n",
    "    C_node.add_child(CvA_node)\n",
    "\n",
    "    CvA_node.add_parent(A_node)\n",
    "    A_node.add_child(CvA_node)\n",
    "\n",
    "\n",
    "    #P(A)\n",
    "    A_distribution = DiscreteDistribution(A_node)\n",
    "    index = A_distribution.generate_index([],[])\n",
    "    A_distribution[index] = [0.15,0.45,0.30,0.10]\n",
    "    A_node.set_dist(A_distribution)\n",
    "\n",
    "    #P(B)\n",
    "    B_distribution = DiscreteDistribution(B_node)\n",
    "    index = B_distribution.generate_index([],[])\n",
    "    B_distribution[index] = [0.15,0.45,0.30,0.10]\n",
    "    B_node.set_dist(B_distribution)\n",
    "\n",
    "    #P(C)\n",
    "    C_distribution = DiscreteDistribution(C_node)\n",
    "    index = C_distribution.generate_index([],[])\n",
    "    C_distribution[index] = [0.15,0.45,0.30,0.10]\n",
    "    C_node.set_dist(C_distribution)\n",
    "\n",
    "    #P(AvB|A,B)\n",
    "    #P(BvC|B,C)\n",
    "    #P(CvA|C,A)\n",
    "    dist = zeros([A_node.size(), B_node.size(), AvB_node.size()], dtype=float32)\n",
    "    dist[0,0,:] = [0.1, 0.1, 0.8]\n",
    "    dist[0,1,:] = [0.2, 0.6, 0.2]\n",
    "    dist[0,2,:] = [0.15, 0.75, 0.10]\n",
    "    dist[0,3,:] = [0.05, 0.90, 0.05]\n",
    "\n",
    "    dist[1,0,:] = [0.6, 0.2, 0.2]\n",
    "    dist[1,1,:] = [0.1, 0.1, 0.8]\n",
    "    dist[1,2,:] = [0.2, 0.6, 0.2]\n",
    "    dist[1,3,:] = [0.15, 0.75, 0.10]\n",
    "\n",
    "    dist[2,0,:] = [0.75, 0.15, 0.10]\n",
    "    dist[2,1,:] = [0.6, 0.2, 0.2]\n",
    "    dist[2,2,:] = [0.1, 0.1, 0.8]\n",
    "    dist[2,3,:] = [0.2, 0.6, 0.2]\n",
    "\n",
    "    dist[3,0,:] = [0.90, 0.05, 0.05]\n",
    "    dist[3,1,:] = [0.75, 0.15, 0.10]\n",
    "    dist[3,2,:] = [0.6, 0.2, 0.2]\n",
    "    dist[3,3,:] = [0.1, 0.1, 0.8]\n",
    "\n",
    "    AvB_distribution = ConditionalDiscreteDistribution(nodes=[A_node, B_node, AvB_node], table=dist)\n",
    "    AvB_node.set_dist(AvB_distribution)\n",
    "\n",
    "    BvC_distribution = ConditionalDiscreteDistribution(nodes=[B_node, C_node, BvC_node], table=dist)\n",
    "    BvC_node.set_dist(BvC_distribution)\n",
    "\n",
    "    CvA_distribution = ConditionalDiscreteDistribution(nodes=[C_node, A_node, CvA_node], table=dist)\n",
    "    CvA_node.set_dist(CvA_distribution)\n",
    "\n",
    "    nodes = [A_node,B_node,C_node,AvB_node,BvC_node,CvA_node]\n",
    "\n",
    "    return BayesNet(nodes)"
   ]
  },
  {
   "cell_type": "code",
   "execution_count": 12,
   "metadata": {
    "collapsed": true
   },
   "outputs": [],
   "source": [
    "game_net = get_game_network()"
   ]
  },
  {
   "cell_type": "markdown",
   "metadata": {},
   "source": [
    "2b: Metropolis-Hastings sampling\n",
    "---\n",
    "15 points\n",
    "\n",
    "Now you will implement the Metropolis-Hastings algorithm, which is a method for estimating a probability distribution when it is prohibitively expensive (even for inference!) to completely compute the distribution. You'll do this in MH_sampling(), which takes a Bayesian network and initial state as a parameter and returns a sample state drawn from the network's distribution. The method should just perform a single iteration of the algorithm. If an initial value is not given, default to a state chosen uniformly at random from the possible states.\n",
    "\n",
    "The general idea is to build an approximation of a latent probability distribution by repeatedly generating a \"candidate\" value for each random variable in the system, and then probabilistically accepting or rejecting the candidate value based on an underlying acceptance function. These [slides](https://www.cs.cmu.edu/~scohen/psnlp-lecture6.pdf) provide a nice intro, and this [cheat sheet](http://www.bcs.rochester.edu/people/robbie/jacobslab/cheat_sheet/MetropolisHastingsSampling.pdf) provides an explanation of the details."
   ]
  },
  {
   "cell_type": "markdown",
   "metadata": {},
   "source": [
    "Hint 1: in both Metropolis-Hastings and Gibbs sampling, you'll need access to each node's probability distribution. You can access this distribution by calling\n",
    "\n",
    "    A_node.dist.table\n",
    "    \n",
    "which will return the same numpy array that you provided when constructing the probability distribution.\n",
    "\n",
    "Hint 2: you'll also want to use the random package (e.g. random.randint()) for the probabilistic choices that sampling makes.\n",
    "\n",
    "Hint 3: in order to count the sample states later on, you'll want to make sure the sample that you return is hashable. One way to do this is by returning the sample as a tuple."
   ]
  },
  {
   "cell_type": "code",
   "execution_count": 13,
   "metadata": {
    "collapsed": true
   },
   "outputs": [],
   "source": [
    "def MH_sampling(bayes_net, initial_value):\n",
    "    \"\"\"Complete a single iteration of the\n",
    "    Metropolis-Hastings algorithm given a\n",
    "    Bayesian network and an initial state\n",
    "    value. Returns the state sampled from\n",
    "    the probability distribution.\"\"\"\n",
    "    init = (0,0,0,0,0,0)\n",
    "    try:\n",
    "        init = initial_value\n",
    "    except:\n",
    "        x=2 #do nothing\n",
    "\n",
    "    A_node = bayes_net.get_node_by_name(\"A\")\n",
    "    B_node = bayes_net.get_node_by_name(\"B\")\n",
    "    C_node = bayes_net.get_node_by_name(\"C\")\n",
    "    AvB_node = bayes_net.get_node_by_name(\"AvB\")\n",
    "    BvC_node = bayes_net.get_node_by_name(\"BvC\")\n",
    "    CvA_node = bayes_net.get_node_by_name(\"CvA\")\n",
    "    A_node.value = init[0]\n",
    "    B_node.value = init[1]\n",
    "    C_node.value = init[2]\n",
    "    AvB_node.value = init[3]\n",
    "    BvC_node.value = init[4]\n",
    "    CvA_node.value = init[5]\n",
    "\n",
    "    nodes = [A_node, B_node, C_node, AvB_node, BvC_node, CvA_node]\n",
    "\n",
    "    import random\n",
    "    randprob = random.uniform(0,1)\n",
    "    p = 0\n",
    "    for x in range(0, A_node.numValues):\n",
    "        p += A_node.dist.table[x]\n",
    "        if randprob < p:\n",
    "            A_node.value = x\n",
    "            break\n",
    "    randprob = random.uniform(0,1)\n",
    "    p = 0\n",
    "    for x in range(0, B_node.numValues):\n",
    "        p += B_node.dist.table[x]\n",
    "        if randprob < p:\n",
    "            B_node.value = x\n",
    "            break\n",
    "    randprob = random.uniform(0,1)\n",
    "    p = 0\n",
    "    for x in range(0, C_node.numValues):\n",
    "        p += C_node.dist.table[x]\n",
    "        if randprob < p:\n",
    "            C_node.value = x\n",
    "            break\n",
    "    randprob = random.uniform(0,1)\n",
    "    p = 0\n",
    "    for x in range(0, AvB_node.numValues):\n",
    "        p += AvB_node.dist.table[A_node.value, B_node.value][x]\n",
    "        if randprob < p:\n",
    "            AvB_node.value = x\n",
    "            break\n",
    "    randprob = random.uniform(0,1)\n",
    "    p = 0\n",
    "    for x in range(0, BvC_node.numValues):\n",
    "        p += BvC_node.dist.table[B_node.value, C_node.value][x]\n",
    "        if randprob < p:\n",
    "            BvC_node.value = x\n",
    "            break\n",
    "    randprob = random.uniform(0,1)\n",
    "    p = 0\n",
    "    for x in range(0, CvA_node.numValues):\n",
    "        p += CvA_node.dist.table[C_node.value, A_node.value][x]\n",
    "        if randprob < p:\n",
    "            CvA_node.value = x\n",
    "            break\n",
    "\n",
    "    #print \"Node value is \" + str(nodeToUpdate.value)\n",
    "\n",
    "    sample = (A_node.value, B_node.value, C_node.value, AvB_node.value, BvC_node.value, CvA_node.value)\n",
    "    #print sample\n",
    "    return sample"
   ]
  },
  {
   "cell_type": "code",
   "execution_count": 14,
   "metadata": {
    "collapsed": false
   },
   "outputs": [],
   "source": [
    "# arbitrary initial state for the game system\n",
    "initial_value = [0,0,0,0,0,0] \n",
    "sample = MH_sampling(game_net, initial_value)"
   ]
  },
  {
   "cell_type": "markdown",
   "metadata": {},
   "source": [
    "2c: Gibbs sampling\n",
    "---\n",
    "15 points\n",
    "\n",
    "Implement the Gibbs sampling algorithm, which is a special case of Metropolis-Hastings. You'll do this in Gibbs_sampling(), which takes a Bayesian network and initial state value as a parameter and returns a sample state drawn from the network's distribution. The method should just consist of a single iteration of the algorithm. If no initial value is provided, default to a uniform distribution over the possible states.\n",
    "\n",
    "You may find [this](http://gandalf.psych.umn.edu/users/schrater/schrater_lab/courses/AI2/gibbs.pdf) helpful in understanding the basics of Gibbs sampling over Bayesian networks. Make sure to identify what makes it different from Metropolis-Hastings."
   ]
  },
  {
   "cell_type": "code",
   "execution_count": 15,
   "metadata": {
    "collapsed": false
   },
   "outputs": [],
   "source": [
    "def Gibbs_sampling(bayes_net, initial_value):\n",
    "    from numpy import random\n",
    "    \"\"\"Complete a single iteration of the\n",
    "    Gibbs sampling algorithm given a\n",
    "    Bayesian network and an initial state\n",
    "    value. Returns the state sampled from\n",
    "    the probability distribution.\"\"\"\n",
    "    init = (0,0,0,0,0,0)\n",
    "    try:\n",
    "        init = initial_value\n",
    "    except:\n",
    "        x=2 #do nothing\n",
    "\n",
    "    A_node = bayes_net.get_node_by_name(\"A\")\n",
    "    B_node = bayes_net.get_node_by_name(\"B\")\n",
    "    C_node = bayes_net.get_node_by_name(\"C\")\n",
    "    AvB_node = bayes_net.get_node_by_name(\"AvB\")\n",
    "    BvC_node = bayes_net.get_node_by_name(\"BvC\")\n",
    "    CvA_node = bayes_net.get_node_by_name(\"CvA\")\n",
    "    A_node.value = init[0]\n",
    "    B_node.value = init[1]\n",
    "    C_node.value = init[2]\n",
    "    AvB_node.value = init[3]\n",
    "    BvC_node.value = init[4]\n",
    "    CvA_node.value = init[5]\n",
    "\n",
    "    nodes = [A_node, B_node, C_node, AvB_node, BvC_node, CvA_node]\n",
    "\n",
    "    import random\n",
    "    indexToUpdate = random.randint(0,len(initial_value)-1)\n",
    "    nodeToUpdate = nodes[indexToUpdate]\n",
    "    \n",
    "    randprob = random.uniform(0,1)\n",
    "    \n",
    "    if nodeToUpdate.name == 'A' or nodeToUpdate.name == 'B' or nodeToUpdate.name == 'C':\n",
    "        p = 0\n",
    "        for x in range(0, nodeToUpdate.numValues):\n",
    "            p += nodeToUpdate.dist.table[x]\n",
    "            if randprob < p:\n",
    "                nodeToUpdate.value = x\n",
    "                break\n",
    "    else:\n",
    "        nodeDistTable = []\n",
    "        if nodeToUpdate.name == 'AvB':\n",
    "            nodeDistTable = nodeToUpdate.dist.table[A_node.value, B_node.value]\n",
    "        elif nodeToUpdate.name == 'BvC':\n",
    "            nodeDistTable = nodeToUpdate.dist.table[B_node.value, C_node.value]\n",
    "        else:\n",
    "            nodeDistTable = nodeToUpdate.dist.table[C_node.value, A_node.value]\n",
    "\n",
    "        p = 0\n",
    "        for x in range(0, nodeToUpdate.numValues):\n",
    "            p += nodeDistTable[x]\n",
    "            if randprob < p:\n",
    "                nodeToUpdate.value = x\n",
    "                break\n",
    "    #print \"Node value is \" + str(nodeToUpdate.value)\n",
    "\n",
    "    sample = (A_node.value, B_node.value, C_node.value, AvB_node.value, BvC_node.value, CvA_node.value)\n",
    "    #print sample\n",
    "    return sample"
   ]
  },
  {
   "cell_type": "markdown",
   "metadata": {},
   "source": [
    "2d: Comparing sampling methods\n",
    "----\n",
    "15 points\n",
    "\n",
    "Suppose that you know the following outcome of two of the three games: A beats B and A draws with C. Start by calculating the posterior distribution for the outcome of the BvC match in calculate_posterior(), using the inference methods from 1d.\n",
    "\n",
    "Estimate the likelihood of different outcomes for the third match by running Gibbs sampling until it converges to a stationary distribution. We'll say that the sampler has converged when, for 10 successive iterations, the difference in expected outcome for the third match differs from the previous estimated outcome by less than .1%.\n",
    "\n",
    "Repeat this experiment for Metropolis-Hastings sampling.\n",
    "\n",
    "Which algorithm converges more quickly? By approximately what factor? For instance, if Metropolis-Hastings takes twice as many iterations to converge as Gibbs sampling, you'd say that it converged faster by a factor of 2. Fill in sampling_question() to answer both parts."
   ]
  },
  {
   "cell_type": "code",
   "execution_count": 16,
   "metadata": {
    "collapsed": true
   },
   "outputs": [],
   "source": [
    "from Inference import EnumerationEngine\n",
    "def calculate_posterior(games_net):\n",
    "    \"\"\"Calculate the posterior distribution\n",
    "    of the BvC match given that A won against\n",
    "    B and tied C. Return a list of probabilities\n",
    "    corresponding to win, loss and tie likelihood.\"\"\"\n",
    "    AvB_node = games_net.get_node_by_name('AvB')\n",
    "    AvC_node = games_net.get_node_by_name('CvA')\n",
    "    BvC_node = games_net.get_node_by_name('BvC')\n",
    "    engine = EnumerationEngine(games_net)\n",
    "    engine.evidence[AvB_node] = 0\n",
    "    engine.evidence[AvC_node] = 2\n",
    "    Q = engine.marginal(BvC_node)[0]\n",
    "    return Q.table"
   ]
  },
  {
   "cell_type": "code",
   "execution_count": 17,
   "metadata": {
    "collapsed": true
   },
   "outputs": [],
   "source": [
    "iter_counts = [1e1,1e3,1e5,1e6]\n",
    "def compare_sampling(bayes_net, posterior):\n",
    "    \"\"\"Compare Gibbs and Metropolis-Hastings\n",
    "    sampling by calculating how long it takes\n",
    "    for each method to converge to the\n",
    "    provided posterior.\"\"\"\n",
    "    samplesMH = []\n",
    "    initialValue = (0,0,0,0,0,0)\n",
    "    counterMH = 1\n",
    "    counterMHWin = 0\n",
    "    counterMHLose = 0\n",
    "    counterMHTie = 0\n",
    "    counterMHOtherChange = 0\n",
    "    convergence = []\n",
    "\n",
    "    matchedIter = 0;\n",
    "    while matchedIter < 10:\n",
    "        #print \"initialValue is: \" + str(initialValue)\n",
    "        sample = MH_sampling(bayes_net, initialValue)\n",
    "        #print \"Sample is: \" + str(sample)\n",
    "        if sample[3] == 0 and sample[5] == 2:\n",
    "            currentProb = [counterMHWin/float(counterMH), counterMHLose/float(counterMH), counterMHTie/float(counterMH)]\n",
    "            convergence = currentProb\n",
    "            samplesMH.append(sample)\n",
    "            counterMH += 1\n",
    "            if sample[4] == 0:\n",
    "                counterMHWin += 1\n",
    "            elif sample[4] == 1:\n",
    "                counterMHLose += 1\n",
    "            elif sample[4] == 2:\n",
    "                counterMHTie += 1\n",
    "\n",
    "            if initialValue[4] == sample[4]:\n",
    "                counterMHOtherChange += 1\n",
    "\n",
    "            nowProb = [counterMHWin/float(counterMH), counterMHLose/float(counterMH), counterMHTie/float(counterMH)]\n",
    "            difProb = [nowProb[0] - currentProb[0], nowProb[1] - currentProb[1], nowProb[2] - currentProb[2]]\n",
    "            if difProb[0] < 0.0001 and difProb[1] < 0.0001 and difProb[2] < 0.0001:\n",
    "                matchedIter += 1\n",
    "            else:\n",
    "                matchedIter = 0\n",
    "        initialValue = sample\n",
    "    #print \"MH: \" + str(counterMHWin/float(counterMH)) + \" , \" + str(counterMHLose/float(counterMH)) + \" , \" + str(counterMHTie/float(counterMH))\n",
    "            #getProb(samplesMH)\n",
    "\n",
    "    MH_convergence = [counterMHWin/float(counterMH), counterMHLose/float(counterMH), counterMHTie/float(counterMH)]\n",
    "\n",
    "\n",
    "    samplesGibbs = []\n",
    "    initialValue = (0,0,0,0,0,0)\n",
    "    counterGibbs = 1\n",
    "    counterGibbsWin = 0\n",
    "    counterGibbsLose = 0\n",
    "    counterGibbsTie = 0\n",
    "    counterGibbsOtherChange = 0\n",
    "\n",
    "    matchedIter = 0;\n",
    "    while matchedIter < 10:\n",
    "        #print \"initialValue is: \" + str(initialValue)\n",
    "        sample = Gibbs_sampling(bayes_net, initialValue)\n",
    "        #print \"Sample is: \" + str(sample)\n",
    "        if sample[3] == 0 and sample[5] == 2: # and updatedNode == 'BvC':\n",
    "            currentProb = [counterGibbsWin/float(counterGibbs), counterGibbsLose/float(counterGibbs), counterGibbsTie/float(counterGibbs)]\n",
    "            samplesGibbs.append(sample)\n",
    "            counterGibbs += 1\n",
    "            if sample[4] == 0:\n",
    "                counterGibbsWin += 1\n",
    "            elif sample[4] == 1:\n",
    "                counterGibbsLose += 1\n",
    "            else:\n",
    "                counterGibbsTie += 1\n",
    "\n",
    "            if initialValue[4] == sample[4]:\n",
    "                counterGibbsOtherChange += 1\n",
    "\n",
    "            nowProb = [counterGibbsWin/float(counterGibbs), counterGibbsLose/float(counterGibbs), counterGibbsTie/float(counterGibbs)]\n",
    "            difProb = [nowProb[0] - currentProb[0], nowProb[1] - currentProb[1], nowProb[2] - currentProb[2]]\n",
    "            if difProb[0] < 0.0001 and difProb[1] < 0.0001 and difProb[2] < 0.0001:\n",
    "                matchedIter += 1\n",
    "            else:\n",
    "                matchedIter = 0\n",
    "\n",
    "        initialValue = sample\n",
    "\n",
    "    Gibbs_convergence = convergence\n",
    "\n",
    "    print \"Gibbs: \" + str(Gibbs_convergence)\n",
    "    print \"MH: \" + str(MH_convergence)\n",
    "    return Gibbs_convergence, MH_convergence"
   ]
  },
  {
   "cell_type": "code",
   "execution_count": 18,
   "metadata": {
    "collapsed": true
   },
   "outputs": [],
   "source": [
    "def sampling_question():\n",
    "    \"\"\"Question about sampling performance.\"\"\"\n",
    "    # TODO: assign value to choice and factor\n",
    "    choice = 0\n",
    "    options = ['Gibbs','Metropolis-Hastings']\n",
    "    factor = 2\n",
    "    return options[choice], factor"
   ]
  },
  {
   "cell_type": "code",
   "execution_count": 19,
   "metadata": {
    "collapsed": false
   },
   "outputs": [
    {
     "name": "stdout",
     "output_type": "stream",
     "text": [
      "Gibbs: [0.26537452637714953, 0.4135820460507141, 0.32089769746429614]\n",
      "MH: [0.2653358589538103, 0.4136674923502841, 0.32085093982223517]\n"
     ]
    },
    {
     "data": {
      "text/plain": [
       "([0.26537452637714953, 0.4135820460507141, 0.32089769746429614],\n",
       " [0.2653358589538103, 0.4136674923502841, 0.32085093982223517])"
      ]
     },
     "execution_count": 19,
     "metadata": {},
     "output_type": "execute_result"
    }
   ],
   "source": [
    "# test your sampling methods here\n",
    "posterior = calculate_posterior(game_net)\n",
    "compare_sampling(game_net, posterior)"
   ]
  },
  {
   "cell_type": "markdown",
   "metadata": {
    "collapsed": true
   },
   "source": [
    "2e: Theoretical follow-up\n",
    "---\n",
    "5 points\n",
    "\n",
    "Suppose there are now $n$ teams in the competition, and all matches have been played except for the last match. Using inference by enumeration, how does the complexity of predicting the last match vary with $n$? \n",
    "\n",
    "Fill in complexity_question() to answer, using big-O notation. For example, write 'O(n^2)' for second-degree polynomial runtime."
   ]
  },
  {
   "cell_type": "code",
   "execution_count": 20,
   "metadata": {
    "collapsed": true
   },
   "outputs": [],
   "source": [
    "def complexity_question():\n",
    "    complexity = 'O(k^n)'\n",
    "    return complexity"
   ]
  },
  {
   "cell_type": "markdown",
   "metadata": {},
   "source": [
    "You're done! Submit this file as a \"probability_notebook.ipynb\" on T-Square before October 15, 9:35 AM. This assignment will be graded on the accuracy of the functions you completed."
   ]
  }
 ],
 "metadata": {
  "kernelspec": {
   "display_name": "Python 2",
   "language": "python",
   "name": "python2"
  },
  "language_info": {
   "codemirror_mode": {
    "name": "ipython",
    "version": 2
   },
   "file_extension": ".py",
   "mimetype": "text/x-python",
   "name": "python",
   "nbconvert_exporter": "python",
   "pygments_lexer": "ipython2",
   "version": "2.7.9"
  }
 },
 "nbformat": 4,
 "nbformat_minor": 0
}
